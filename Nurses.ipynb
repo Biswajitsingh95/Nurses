{
 "cells": [
  {
   "cell_type": "markdown",
   "id": "0ba16f21",
   "metadata": {},
   "source": [
    "# Assignment 1\n",
    "Load and explore the data set, leaving a subset of data separate from the exploration to avoid overfitting."
   ]
  },
  {
   "cell_type": "code",
   "execution_count": 12,
   "id": "25414083",
   "metadata": {},
   "outputs": [],
   "source": [
    "import pandas as pd"
   ]
  },
  {
   "cell_type": "code",
   "execution_count": 13,
   "id": "e7bc8f44",
   "metadata": {},
   "outputs": [
    {
     "name": "stderr",
     "output_type": "stream",
     "text": [
      "/var/folders/md/y8hp6ypj0_n_sbydxqz4gcq00000gn/T/ipykernel_1341/803543530.py:1: DtypeWarning: Columns (6) have mixed types. Specify dtype option on import or set low_memory=False.\n",
      "  data=pd.read_csv(\"Labelled_dataset_csv (1) (1).csv\")\n"
     ]
    }
   ],
   "source": [
    "data=pd.read_csv(\"Labelled_dataset_csv (1) (1).csv\")"
   ]
  },
  {
   "cell_type": "code",
   "execution_count": 14,
   "id": "4f57f65c",
   "metadata": {},
   "outputs": [
    {
     "data": {
      "text/html": [
       "<div>\n",
       "<style scoped>\n",
       "    .dataframe tbody tr th:only-of-type {\n",
       "        vertical-align: middle;\n",
       "    }\n",
       "\n",
       "    .dataframe tbody tr th {\n",
       "        vertical-align: top;\n",
       "    }\n",
       "\n",
       "    .dataframe thead th {\n",
       "        text-align: right;\n",
       "    }\n",
       "</style>\n",
       "<table border=\"1\" class=\"dataframe\">\n",
       "  <thead>\n",
       "    <tr style=\"text-align: right;\">\n",
       "      <th></th>\n",
       "      <th>X</th>\n",
       "      <th>Y</th>\n",
       "      <th>Z</th>\n",
       "      <th>EDA</th>\n",
       "      <th>HR</th>\n",
       "      <th>TEMP</th>\n",
       "      <th>id</th>\n",
       "      <th>datetime</th>\n",
       "      <th>label</th>\n",
       "    </tr>\n",
       "  </thead>\n",
       "  <tbody>\n",
       "    <tr>\n",
       "      <th>0</th>\n",
       "      <td>-13.0</td>\n",
       "      <td>-61.0</td>\n",
       "      <td>5.0</td>\n",
       "      <td>6.769995</td>\n",
       "      <td>99.43</td>\n",
       "      <td>31.17</td>\n",
       "      <td>15</td>\n",
       "      <td>2020-07-08 14:03:00.000000000</td>\n",
       "      <td>2.0</td>\n",
       "    </tr>\n",
       "    <tr>\n",
       "      <th>1</th>\n",
       "      <td>-20.0</td>\n",
       "      <td>-69.0</td>\n",
       "      <td>-3.0</td>\n",
       "      <td>6.769995</td>\n",
       "      <td>99.43</td>\n",
       "      <td>31.17</td>\n",
       "      <td>15</td>\n",
       "      <td>2020-07-08 14:03:00.031249920</td>\n",
       "      <td>2.0</td>\n",
       "    </tr>\n",
       "    <tr>\n",
       "      <th>2</th>\n",
       "      <td>-31.0</td>\n",
       "      <td>-78.0</td>\n",
       "      <td>-15.0</td>\n",
       "      <td>6.769995</td>\n",
       "      <td>99.43</td>\n",
       "      <td>31.17</td>\n",
       "      <td>15</td>\n",
       "      <td>2020-07-08 14:03:00.062500096</td>\n",
       "      <td>2.0</td>\n",
       "    </tr>\n",
       "    <tr>\n",
       "      <th>3</th>\n",
       "      <td>-47.0</td>\n",
       "      <td>-65.0</td>\n",
       "      <td>-38.0</td>\n",
       "      <td>6.769995</td>\n",
       "      <td>99.43</td>\n",
       "      <td>31.17</td>\n",
       "      <td>15</td>\n",
       "      <td>2020-07-08 14:03:00.093750016</td>\n",
       "      <td>2.0</td>\n",
       "    </tr>\n",
       "    <tr>\n",
       "      <th>4</th>\n",
       "      <td>-67.0</td>\n",
       "      <td>-57.0</td>\n",
       "      <td>-53.0</td>\n",
       "      <td>6.769995</td>\n",
       "      <td>99.43</td>\n",
       "      <td>31.17</td>\n",
       "      <td>15</td>\n",
       "      <td>2020-07-08 14:03:00.124999936</td>\n",
       "      <td>2.0</td>\n",
       "    </tr>\n",
       "    <tr>\n",
       "      <th>...</th>\n",
       "      <td>...</td>\n",
       "      <td>...</td>\n",
       "      <td>...</td>\n",
       "      <td>...</td>\n",
       "      <td>...</td>\n",
       "      <td>...</td>\n",
       "      <td>...</td>\n",
       "      <td>...</td>\n",
       "      <td>...</td>\n",
       "    </tr>\n",
       "    <tr>\n",
       "      <th>11509046</th>\n",
       "      <td>-16.0</td>\n",
       "      <td>-56.0</td>\n",
       "      <td>24.0</td>\n",
       "      <td>3.386070</td>\n",
       "      <td>88.37</td>\n",
       "      <td>33.77</td>\n",
       "      <td>F5</td>\n",
       "      <td>2020-07-23 17:28:59.875000064</td>\n",
       "      <td>2.0</td>\n",
       "    </tr>\n",
       "    <tr>\n",
       "      <th>11509047</th>\n",
       "      <td>-8.0</td>\n",
       "      <td>-50.0</td>\n",
       "      <td>27.0</td>\n",
       "      <td>3.386070</td>\n",
       "      <td>88.37</td>\n",
       "      <td>33.77</td>\n",
       "      <td>F5</td>\n",
       "      <td>2020-07-23 17:28:59.906249984</td>\n",
       "      <td>2.0</td>\n",
       "    </tr>\n",
       "    <tr>\n",
       "      <th>11509048</th>\n",
       "      <td>-28.0</td>\n",
       "      <td>-36.0</td>\n",
       "      <td>28.0</td>\n",
       "      <td>3.386070</td>\n",
       "      <td>88.37</td>\n",
       "      <td>33.77</td>\n",
       "      <td>F5</td>\n",
       "      <td>2020-07-23 17:28:59.937499904</td>\n",
       "      <td>2.0</td>\n",
       "    </tr>\n",
       "    <tr>\n",
       "      <th>11509049</th>\n",
       "      <td>-29.0</td>\n",
       "      <td>-29.0</td>\n",
       "      <td>30.0</td>\n",
       "      <td>3.386070</td>\n",
       "      <td>88.37</td>\n",
       "      <td>33.77</td>\n",
       "      <td>F5</td>\n",
       "      <td>2020-07-23 17:28:59.968750080</td>\n",
       "      <td>2.0</td>\n",
       "    </tr>\n",
       "    <tr>\n",
       "      <th>11509050</th>\n",
       "      <td>-22.0</td>\n",
       "      <td>-24.0</td>\n",
       "      <td>29.0</td>\n",
       "      <td>3.374543</td>\n",
       "      <td>88.33</td>\n",
       "      <td>33.75</td>\n",
       "      <td>F5</td>\n",
       "      <td>2020-07-23 17:29:00.000000000</td>\n",
       "      <td>2.0</td>\n",
       "    </tr>\n",
       "  </tbody>\n",
       "</table>\n",
       "<p>11509051 rows × 9 columns</p>\n",
       "</div>"
      ],
      "text/plain": [
       "             X     Y     Z       EDA     HR   TEMP  id  \\\n",
       "0        -13.0 -61.0   5.0  6.769995  99.43  31.17  15   \n",
       "1        -20.0 -69.0  -3.0  6.769995  99.43  31.17  15   \n",
       "2        -31.0 -78.0 -15.0  6.769995  99.43  31.17  15   \n",
       "3        -47.0 -65.0 -38.0  6.769995  99.43  31.17  15   \n",
       "4        -67.0 -57.0 -53.0  6.769995  99.43  31.17  15   \n",
       "...        ...   ...   ...       ...    ...    ...  ..   \n",
       "11509046 -16.0 -56.0  24.0  3.386070  88.37  33.77  F5   \n",
       "11509047  -8.0 -50.0  27.0  3.386070  88.37  33.77  F5   \n",
       "11509048 -28.0 -36.0  28.0  3.386070  88.37  33.77  F5   \n",
       "11509049 -29.0 -29.0  30.0  3.386070  88.37  33.77  F5   \n",
       "11509050 -22.0 -24.0  29.0  3.374543  88.33  33.75  F5   \n",
       "\n",
       "                               datetime  label  \n",
       "0         2020-07-08 14:03:00.000000000    2.0  \n",
       "1         2020-07-08 14:03:00.031249920    2.0  \n",
       "2         2020-07-08 14:03:00.062500096    2.0  \n",
       "3         2020-07-08 14:03:00.093750016    2.0  \n",
       "4         2020-07-08 14:03:00.124999936    2.0  \n",
       "...                                 ...    ...  \n",
       "11509046  2020-07-23 17:28:59.875000064    2.0  \n",
       "11509047  2020-07-23 17:28:59.906249984    2.0  \n",
       "11509048  2020-07-23 17:28:59.937499904    2.0  \n",
       "11509049  2020-07-23 17:28:59.968750080    2.0  \n",
       "11509050  2020-07-23 17:29:00.000000000    2.0  \n",
       "\n",
       "[11509051 rows x 9 columns]"
      ]
     },
     "execution_count": 14,
     "metadata": {},
     "output_type": "execute_result"
    }
   ],
   "source": [
    "data"
   ]
  },
  {
   "cell_type": "code",
   "execution_count": 15,
   "id": "173dc1d9",
   "metadata": {},
   "outputs": [
    {
     "name": "stdout",
     "output_type": "stream",
     "text": [
      "      X     Y     Z       EDA     HR   TEMP  id  \\\n",
      "0 -13.0 -61.0   5.0  6.769995  99.43  31.17  15   \n",
      "1 -20.0 -69.0  -3.0  6.769995  99.43  31.17  15   \n",
      "2 -31.0 -78.0 -15.0  6.769995  99.43  31.17  15   \n",
      "3 -47.0 -65.0 -38.0  6.769995  99.43  31.17  15   \n",
      "4 -67.0 -57.0 -53.0  6.769995  99.43  31.17  15   \n",
      "\n",
      "                        datetime  label  \n",
      "0  2020-07-08 14:03:00.000000000    2.0  \n",
      "1  2020-07-08 14:03:00.031249920    2.0  \n",
      "2  2020-07-08 14:03:00.062500096    2.0  \n",
      "3  2020-07-08 14:03:00.093750016    2.0  \n",
      "4  2020-07-08 14:03:00.124999936    2.0  \n",
      "<class 'pandas.core.frame.DataFrame'>\n",
      "RangeIndex: 11509051 entries, 0 to 11509050\n",
      "Data columns (total 9 columns):\n",
      " #   Column    Dtype  \n",
      "---  ------    -----  \n",
      " 0   X         float64\n",
      " 1   Y         float64\n",
      " 2   Z         float64\n",
      " 3   EDA       float64\n",
      " 4   HR        float64\n",
      " 5   TEMP      float64\n",
      " 6   id        object \n",
      " 7   datetime  object \n",
      " 8   label     float64\n",
      "dtypes: float64(7), object(2)\n",
      "memory usage: 790.3+ MB\n",
      "None\n",
      "                  X             Y             Z           EDA            HR  \\\n",
      "count  1.150905e+07  1.150905e+07  1.150905e+07  1.150905e+07  1.150905e+07   \n",
      "mean  -2.823775e+01 -9.091032e-01  2.382449e+01  3.502127e+00  8.576090e+01   \n",
      "std    3.142310e+01  3.343382e+01  2.985317e+01  5.656541e+00  1.419642e+01   \n",
      "min   -1.280000e+02 -1.280000e+02 -1.280000e+02  0.000000e+00  5.100000e+01   \n",
      "25%   -5.200000e+01 -1.900000e+01  4.000000e+00  2.242060e-01  7.672000e+01   \n",
      "50%   -3.300000e+01  1.000000e+00  2.500000e+01  1.157407e+00  8.390000e+01   \n",
      "75%   -1.400000e+01  1.700000e+01  4.900000e+01  4.077436e+00  9.310000e+01   \n",
      "max    1.270000e+02  1.270000e+02  1.270000e+02  5.976071e+01  1.802300e+02   \n",
      "\n",
      "               TEMP         label  \n",
      "count  1.150905e+07  1.150905e+07  \n",
      "mean   3.223435e+01  1.554202e+00  \n",
      "std    2.260516e+00  7.891827e-01  \n",
      "min    2.409000e+01  0.000000e+00  \n",
      "25%    3.019000e+01  1.000000e+00  \n",
      "50%    3.257000e+01  2.000000e+00  \n",
      "75%    3.425000e+01  2.000000e+00  \n",
      "max    3.659000e+01  2.000000e+00  \n"
     ]
    }
   ],
   "source": [
    "# Explore the data set\n",
    "print(data.head())\n",
    "print(data.info())\n",
    "print(data.describe())"
   ]
  },
  {
   "cell_type": "code",
   "execution_count": 16,
   "id": "3874cd9f",
   "metadata": {},
   "outputs": [],
   "source": [
    "# Split the data into exploration and validation subsets\n",
    "from sklearn.model_selection import train_test_split\n",
    "\n",
    "exploration_data, validation_data = train_test_split(data, test_size=0.2, random_state=42)"
   ]
  },
  {
   "cell_type": "markdown",
   "id": "3b95ebc8",
   "metadata": {},
   "source": [
    "### Clean and preprocess the data set."
   ]
  },
  {
   "cell_type": "code",
   "execution_count": 17,
   "id": "4c8bdd95",
   "metadata": {},
   "outputs": [
    {
     "name": "stdout",
     "output_type": "stream",
     "text": [
      "X           0\n",
      "Y           0\n",
      "Z           0\n",
      "EDA         0\n",
      "HR          0\n",
      "TEMP        0\n",
      "id          0\n",
      "datetime    0\n",
      "label       0\n",
      "dtype: int64\n"
     ]
    }
   ],
   "source": [
    "# Check for missing values\n",
    "print(data.isnull().sum())"
   ]
  },
  {
   "cell_type": "code",
   "execution_count": 18,
   "id": "f5c6c74d",
   "metadata": {},
   "outputs": [],
   "source": [
    "# Drop any rows with missing values\n",
    "data = data.dropna()"
   ]
  },
  {
   "cell_type": "code",
   "execution_count": 19,
   "id": "3cf5242a",
   "metadata": {},
   "outputs": [
    {
     "name": "stdout",
     "output_type": "stream",
     "text": [
      "105606\n"
     ]
    }
   ],
   "source": [
    "# Check for duplicate rows\n",
    "print(data.duplicated().sum())"
   ]
  },
  {
   "cell_type": "code",
   "execution_count": 20,
   "id": "fe83a101",
   "metadata": {},
   "outputs": [],
   "source": [
    "# Drop any duplicate rows\n",
    "data = data.drop_duplicates()"
   ]
  },
  {
   "cell_type": "code",
   "execution_count": 21,
   "id": "eacb94cd",
   "metadata": {},
   "outputs": [],
   "source": [
    "# Convert the datetime column to a datetime object\n",
    "data['datetime'] = pd.to_datetime(data['datetime'])"
   ]
  },
  {
   "cell_type": "code",
   "execution_count": 22,
   "id": "fb6fbdd3",
   "metadata": {},
   "outputs": [
    {
     "name": "stdout",
     "output_type": "stream",
     "text": [
      "X                  float64\n",
      "Y                  float64\n",
      "Z                  float64\n",
      "EDA                float64\n",
      "HR                 float64\n",
      "TEMP               float64\n",
      "id                  object\n",
      "datetime    datetime64[ns]\n",
      "label              float64\n",
      "dtype: object\n"
     ]
    }
   ],
   "source": [
    "# Check the data types of the columns\n",
    "print(data.dtypes)"
   ]
  },
  {
   "cell_type": "code",
   "execution_count": 23,
   "id": "d0da60de",
   "metadata": {},
   "outputs": [],
   "source": [
    "# Convert the id column to a categorical variable\n",
    "data['id'] = data['id'].astype('category')"
   ]
  },
  {
   "cell_type": "code",
   "execution_count": 24,
   "id": "0ae98a94",
   "metadata": {},
   "outputs": [
    {
     "name": "stdout",
     "output_type": "stream",
     "text": [
      "                  X             Y             Z           EDA            HR  \\\n",
      "count  1.140344e+07  1.140344e+07  1.140344e+07  1.140344e+07  1.140344e+07   \n",
      "mean  -2.829194e+01 -1.097633e+00  2.394380e+01  3.508278e+00  8.576225e+01   \n",
      "std    3.141358e+01  3.329231e+01  2.987100e+01  5.679268e+00  1.422819e+01   \n",
      "min   -1.280000e+02 -1.280000e+02 -1.280000e+02  0.000000e+00  5.100000e+01   \n",
      "25%   -5.200000e+01 -1.900000e+01  4.000000e+00  2.203620e-01  7.668000e+01   \n",
      "50%   -3.300000e+01  1.000000e+00  2.600000e+01  1.140957e+00  8.390000e+01   \n",
      "75%   -1.400000e+01  1.700000e+01  4.900000e+01  4.067910e+00  9.313000e+01   \n",
      "max    1.270000e+02  1.270000e+02  1.270000e+02  5.976071e+01  1.802300e+02   \n",
      "\n",
      "               TEMP         label  \n",
      "count  1.140344e+07  1.140344e+07  \n",
      "mean   3.224959e+01  1.552936e+00  \n",
      "std    2.260318e+00  7.914698e-01  \n",
      "min    2.409000e+01  0.000000e+00  \n",
      "25%    3.021000e+01  1.000000e+00  \n",
      "50%    3.259000e+01  2.000000e+00  \n",
      "75%    3.427000e+01  2.000000e+00  \n",
      "max    3.659000e+01  2.000000e+00  \n"
     ]
    }
   ],
   "source": [
    "# Check the summary statistics of the numerical columns\n",
    "print(data.describe())\n"
   ]
  },
  {
   "cell_type": "code",
   "execution_count": 25,
   "id": "d2d7d4dc",
   "metadata": {},
   "outputs": [
    {
     "name": "stdout",
     "output_type": "stream",
     "text": [
      "              X         Y         Z       EDA        HR      TEMP     label\n",
      "X      1.000000  0.061378  0.197679  0.096056  0.128854  0.026448 -0.009016\n",
      "Y      0.061378  1.000000  0.019268 -0.094499 -0.066294 -0.079620 -0.024973\n",
      "Z      0.197679  0.019268  1.000000  0.006093 -0.104408 -0.031794 -0.058929\n",
      "EDA    0.096056 -0.094499  0.006093  1.000000  0.141676  0.352223  0.054456\n",
      "HR     0.128854 -0.066294 -0.104408  0.141676  1.000000  0.156965 -0.030715\n",
      "TEMP   0.026448 -0.079620 -0.031794  0.352223  0.156965  1.000000  0.138786\n",
      "label -0.009016 -0.024973 -0.058929  0.054456 -0.030715  0.138786  1.000000\n"
     ]
    }
   ],
   "source": [
    "print(data.corr())"
   ]
  },
  {
   "cell_type": "markdown",
   "id": "349ae468",
   "metadata": {},
   "source": [
    "# Assignment 2"
   ]
  },
  {
   "cell_type": "code",
   "execution_count": 26,
   "id": "9d8323d2",
   "metadata": {},
   "outputs": [],
   "source": [
    "import pandas as pd\n",
    "import numpy as np\n",
    "from sklearn.model_selection import train_test_split\n",
    "from sklearn.preprocessing import StandardScaler\n",
    "from sklearn.ensemble import RandomForestClassifier\n",
    "from sklearn.metrics import accuracy_score, confusion_matrix\n"
   ]
  },
  {
   "cell_type": "code",
   "execution_count": 27,
   "id": "4e1e963d",
   "metadata": {},
   "outputs": [
    {
     "name": "stderr",
     "output_type": "stream",
     "text": [
      "/var/folders/md/y8hp6ypj0_n_sbydxqz4gcq00000gn/T/ipykernel_1341/3197969852.py:2: DtypeWarning: Columns (6) have mixed types. Specify dtype option on import or set low_memory=False.\n",
      "  data = pd.read_csv(\"Labelled_dataset_csv (1) (1).csv\")\n"
     ]
    }
   ],
   "source": [
    "\n",
    "# Load the dataset\n",
    "data = pd.read_csv(\"Labelled_dataset_csv (1) (1).csv\")\n",
    "\n"
   ]
  },
  {
   "cell_type": "code",
   "execution_count": 34,
   "id": "2613d481",
   "metadata": {},
   "outputs": [
    {
     "data": {
      "text/html": [
       "<div>\n",
       "<style scoped>\n",
       "    .dataframe tbody tr th:only-of-type {\n",
       "        vertical-align: middle;\n",
       "    }\n",
       "\n",
       "    .dataframe tbody tr th {\n",
       "        vertical-align: top;\n",
       "    }\n",
       "\n",
       "    .dataframe thead th {\n",
       "        text-align: right;\n",
       "    }\n",
       "</style>\n",
       "<table border=\"1\" class=\"dataframe\">\n",
       "  <thead>\n",
       "    <tr style=\"text-align: right;\">\n",
       "      <th></th>\n",
       "      <th>X</th>\n",
       "      <th>Y</th>\n",
       "      <th>Z</th>\n",
       "      <th>EDA</th>\n",
       "      <th>HR</th>\n",
       "      <th>TEMP</th>\n",
       "      <th>label</th>\n",
       "    </tr>\n",
       "  </thead>\n",
       "  <tbody>\n",
       "    <tr>\n",
       "      <th>count</th>\n",
       "      <td>1.150905e+07</td>\n",
       "      <td>1.150905e+07</td>\n",
       "      <td>1.150905e+07</td>\n",
       "      <td>1.150905e+07</td>\n",
       "      <td>1.150905e+07</td>\n",
       "      <td>1.150905e+07</td>\n",
       "      <td>1.150905e+07</td>\n",
       "    </tr>\n",
       "    <tr>\n",
       "      <th>mean</th>\n",
       "      <td>-2.823775e+01</td>\n",
       "      <td>-9.091032e-01</td>\n",
       "      <td>2.382449e+01</td>\n",
       "      <td>3.502127e+00</td>\n",
       "      <td>8.576090e+01</td>\n",
       "      <td>3.223435e+01</td>\n",
       "      <td>1.554202e+00</td>\n",
       "    </tr>\n",
       "    <tr>\n",
       "      <th>std</th>\n",
       "      <td>3.142310e+01</td>\n",
       "      <td>3.343382e+01</td>\n",
       "      <td>2.985317e+01</td>\n",
       "      <td>5.656541e+00</td>\n",
       "      <td>1.419642e+01</td>\n",
       "      <td>2.260516e+00</td>\n",
       "      <td>7.891827e-01</td>\n",
       "    </tr>\n",
       "    <tr>\n",
       "      <th>min</th>\n",
       "      <td>-1.280000e+02</td>\n",
       "      <td>-1.280000e+02</td>\n",
       "      <td>-1.280000e+02</td>\n",
       "      <td>0.000000e+00</td>\n",
       "      <td>5.100000e+01</td>\n",
       "      <td>2.409000e+01</td>\n",
       "      <td>0.000000e+00</td>\n",
       "    </tr>\n",
       "    <tr>\n",
       "      <th>25%</th>\n",
       "      <td>-5.200000e+01</td>\n",
       "      <td>-1.900000e+01</td>\n",
       "      <td>4.000000e+00</td>\n",
       "      <td>2.242060e-01</td>\n",
       "      <td>7.672000e+01</td>\n",
       "      <td>3.019000e+01</td>\n",
       "      <td>1.000000e+00</td>\n",
       "    </tr>\n",
       "    <tr>\n",
       "      <th>50%</th>\n",
       "      <td>-3.300000e+01</td>\n",
       "      <td>1.000000e+00</td>\n",
       "      <td>2.500000e+01</td>\n",
       "      <td>1.157407e+00</td>\n",
       "      <td>8.390000e+01</td>\n",
       "      <td>3.257000e+01</td>\n",
       "      <td>2.000000e+00</td>\n",
       "    </tr>\n",
       "    <tr>\n",
       "      <th>75%</th>\n",
       "      <td>-1.400000e+01</td>\n",
       "      <td>1.700000e+01</td>\n",
       "      <td>4.900000e+01</td>\n",
       "      <td>4.077436e+00</td>\n",
       "      <td>9.310000e+01</td>\n",
       "      <td>3.425000e+01</td>\n",
       "      <td>2.000000e+00</td>\n",
       "    </tr>\n",
       "    <tr>\n",
       "      <th>max</th>\n",
       "      <td>1.270000e+02</td>\n",
       "      <td>1.270000e+02</td>\n",
       "      <td>1.270000e+02</td>\n",
       "      <td>5.976071e+01</td>\n",
       "      <td>1.802300e+02</td>\n",
       "      <td>3.659000e+01</td>\n",
       "      <td>2.000000e+00</td>\n",
       "    </tr>\n",
       "  </tbody>\n",
       "</table>\n",
       "</div>"
      ],
      "text/plain": [
       "                  X             Y             Z           EDA            HR  \\\n",
       "count  1.150905e+07  1.150905e+07  1.150905e+07  1.150905e+07  1.150905e+07   \n",
       "mean  -2.823775e+01 -9.091032e-01  2.382449e+01  3.502127e+00  8.576090e+01   \n",
       "std    3.142310e+01  3.343382e+01  2.985317e+01  5.656541e+00  1.419642e+01   \n",
       "min   -1.280000e+02 -1.280000e+02 -1.280000e+02  0.000000e+00  5.100000e+01   \n",
       "25%   -5.200000e+01 -1.900000e+01  4.000000e+00  2.242060e-01  7.672000e+01   \n",
       "50%   -3.300000e+01  1.000000e+00  2.500000e+01  1.157407e+00  8.390000e+01   \n",
       "75%   -1.400000e+01  1.700000e+01  4.900000e+01  4.077436e+00  9.310000e+01   \n",
       "max    1.270000e+02  1.270000e+02  1.270000e+02  5.976071e+01  1.802300e+02   \n",
       "\n",
       "               TEMP         label  \n",
       "count  1.150905e+07  1.150905e+07  \n",
       "mean   3.223435e+01  1.554202e+00  \n",
       "std    2.260516e+00  7.891827e-01  \n",
       "min    2.409000e+01  0.000000e+00  \n",
       "25%    3.019000e+01  1.000000e+00  \n",
       "50%    3.257000e+01  2.000000e+00  \n",
       "75%    3.425000e+01  2.000000e+00  \n",
       "max    3.659000e+01  2.000000e+00  "
      ]
     },
     "execution_count": 34,
     "metadata": {},
     "output_type": "execute_result"
    }
   ],
   "source": [
    "data.describe()"
   ]
  },
  {
   "cell_type": "code",
   "execution_count": 36,
   "id": "b77d9ddf",
   "metadata": {},
   "outputs": [
    {
     "data": {
      "text/html": [
       "<div>\n",
       "<style scoped>\n",
       "    .dataframe tbody tr th:only-of-type {\n",
       "        vertical-align: middle;\n",
       "    }\n",
       "\n",
       "    .dataframe tbody tr th {\n",
       "        vertical-align: top;\n",
       "    }\n",
       "\n",
       "    .dataframe thead th {\n",
       "        text-align: right;\n",
       "    }\n",
       "</style>\n",
       "<table border=\"1\" class=\"dataframe\">\n",
       "  <thead>\n",
       "    <tr style=\"text-align: right;\">\n",
       "      <th></th>\n",
       "      <th>X</th>\n",
       "      <th>Y</th>\n",
       "      <th>Z</th>\n",
       "      <th>EDA</th>\n",
       "      <th>HR</th>\n",
       "      <th>TEMP</th>\n",
       "      <th>label</th>\n",
       "    </tr>\n",
       "  </thead>\n",
       "  <tbody>\n",
       "    <tr>\n",
       "      <th>X</th>\n",
       "      <td>1.000000</td>\n",
       "      <td>0.067204</td>\n",
       "      <td>0.197295</td>\n",
       "      <td>0.093888</td>\n",
       "      <td>0.126070</td>\n",
       "      <td>0.022847</td>\n",
       "      <td>-0.008351</td>\n",
       "    </tr>\n",
       "    <tr>\n",
       "      <th>Y</th>\n",
       "      <td>0.067204</td>\n",
       "      <td>1.000000</td>\n",
       "      <td>0.019084</td>\n",
       "      <td>-0.096138</td>\n",
       "      <td>-0.068020</td>\n",
       "      <td>-0.084576</td>\n",
       "      <td>-0.022143</td>\n",
       "    </tr>\n",
       "    <tr>\n",
       "      <th>Z</th>\n",
       "      <td>0.197295</td>\n",
       "      <td>0.019084</td>\n",
       "      <td>1.000000</td>\n",
       "      <td>0.005993</td>\n",
       "      <td>-0.104191</td>\n",
       "      <td>-0.029366</td>\n",
       "      <td>-0.058655</td>\n",
       "    </tr>\n",
       "    <tr>\n",
       "      <th>EDA</th>\n",
       "      <td>0.093888</td>\n",
       "      <td>-0.096138</td>\n",
       "      <td>0.005993</td>\n",
       "      <td>1.000000</td>\n",
       "      <td>0.142542</td>\n",
       "      <td>0.352888</td>\n",
       "      <td>0.053214</td>\n",
       "    </tr>\n",
       "    <tr>\n",
       "      <th>HR</th>\n",
       "      <td>0.126070</td>\n",
       "      <td>-0.068020</td>\n",
       "      <td>-0.104191</td>\n",
       "      <td>0.142542</td>\n",
       "      <td>1.000000</td>\n",
       "      <td>0.158172</td>\n",
       "      <td>-0.032983</td>\n",
       "    </tr>\n",
       "    <tr>\n",
       "      <th>TEMP</th>\n",
       "      <td>0.022847</td>\n",
       "      <td>-0.084576</td>\n",
       "      <td>-0.029366</td>\n",
       "      <td>0.352888</td>\n",
       "      <td>0.158172</td>\n",
       "      <td>1.000000</td>\n",
       "      <td>0.135259</td>\n",
       "    </tr>\n",
       "    <tr>\n",
       "      <th>label</th>\n",
       "      <td>-0.008351</td>\n",
       "      <td>-0.022143</td>\n",
       "      <td>-0.058655</td>\n",
       "      <td>0.053214</td>\n",
       "      <td>-0.032983</td>\n",
       "      <td>0.135259</td>\n",
       "      <td>1.000000</td>\n",
       "    </tr>\n",
       "  </tbody>\n",
       "</table>\n",
       "</div>"
      ],
      "text/plain": [
       "              X         Y         Z       EDA        HR      TEMP     label\n",
       "X      1.000000  0.067204  0.197295  0.093888  0.126070  0.022847 -0.008351\n",
       "Y      0.067204  1.000000  0.019084 -0.096138 -0.068020 -0.084576 -0.022143\n",
       "Z      0.197295  0.019084  1.000000  0.005993 -0.104191 -0.029366 -0.058655\n",
       "EDA    0.093888 -0.096138  0.005993  1.000000  0.142542  0.352888  0.053214\n",
       "HR     0.126070 -0.068020 -0.104191  0.142542  1.000000  0.158172 -0.032983\n",
       "TEMP   0.022847 -0.084576 -0.029366  0.352888  0.158172  1.000000  0.135259\n",
       "label -0.008351 -0.022143 -0.058655  0.053214 -0.032983  0.135259  1.000000"
      ]
     },
     "execution_count": 36,
     "metadata": {},
     "output_type": "execute_result"
    }
   ],
   "source": [
    "data.corr()"
   ]
  },
  {
   "cell_type": "code",
   "execution_count": 28,
   "id": "a613f447",
   "metadata": {},
   "outputs": [],
   "source": [
    "# Preprocess the dataset\n",
    "scaler = StandardScaler()\n",
    "X = data[['X', 'Y', 'Z', 'EDA', 'HR', 'TEMP']]\n",
    "X = scaler.fit_transform(X)\n",
    "y = data['label'].apply(lambda x: 1 if x == 1 else 0) # Convert the labels to binary\n"
   ]
  },
  {
   "cell_type": "code",
   "execution_count": 29,
   "id": "753ec354",
   "metadata": {},
   "outputs": [],
   "source": [
    "\n",
    "# Split the dataset\n",
    "X_train, X_test, y_train, y_test = train_test_split(X, y, test_size=0.2, random_state=42)\n",
    "\n"
   ]
  },
  {
   "cell_type": "code",
   "execution_count": 30,
   "id": "8940f374",
   "metadata": {},
   "outputs": [
    {
     "data": {
      "text/plain": [
       "RandomForestClassifier(random_state=42)"
      ]
     },
     "execution_count": 30,
     "metadata": {},
     "output_type": "execute_result"
    }
   ],
   "source": [
    "# Train the model\n",
    "clf = RandomForestClassifier(n_estimators=100, random_state=42)\n",
    "clf.fit(X_train, y_train)\n"
   ]
  },
  {
   "cell_type": "code",
   "execution_count": 31,
   "id": "80467ff1",
   "metadata": {},
   "outputs": [],
   "source": [
    "\n",
    "# Evaluate the model\n",
    "y_pred = clf.predict(X_test)\n",
    "acc = accuracy_score(y_test, y_pred)\n",
    "cm = confusion_matrix(y_test, y_pred)\n"
   ]
  },
  {
   "cell_type": "code",
   "execution_count": 32,
   "id": "3ca0ae67",
   "metadata": {},
   "outputs": [
    {
     "name": "stdout",
     "output_type": "stream",
     "text": [
      "Accuracy: 0.9982066294756606\n",
      "Confusion matrix:\n",
      " [[2140713     245]\n",
      " [   3883  156970]]\n"
     ]
    }
   ],
   "source": [
    "print(\"Accuracy:\", acc)\n",
    "print(\"Confusion matrix:\\n\", cm)"
   ]
  },
  {
   "cell_type": "code",
   "execution_count": 33,
   "id": "9c448511",
   "metadata": {},
   "outputs": [
    {
     "name": "stdout",
     "output_type": "stream",
     "text": [
      "Accuracy: 99.82%\n"
     ]
    }
   ],
   "source": [
    "print(\"Accuracy: {:.2f}%\".format(acc * 100))"
   ]
  },
  {
   "cell_type": "code",
   "execution_count": null,
   "id": "7a8545f4",
   "metadata": {},
   "outputs": [],
   "source": []
  }
 ],
 "metadata": {
  "kernelspec": {
   "display_name": "Python 3 (ipykernel)",
   "language": "python",
   "name": "python3"
  },
  "language_info": {
   "codemirror_mode": {
    "name": "ipython",
    "version": 3
   },
   "file_extension": ".py",
   "mimetype": "text/x-python",
   "name": "python",
   "nbconvert_exporter": "python",
   "pygments_lexer": "ipython3",
   "version": "3.9.12"
  }
 },
 "nbformat": 4,
 "nbformat_minor": 5
}
